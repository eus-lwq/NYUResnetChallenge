{
  "metadata": {
    "colab": {
      "provenance": [],
      "gpuType": "T4",
      "include_colab_link": true
    },
    "kernelspec": {
      "name": "python3",
      "display_name": "Python 3",
      "language": "python"
    },
    "language_info": {
      "name": "python",
      "version": "3.10.13",
      "mimetype": "text/x-python",
      "codemirror_mode": {
        "name": "ipython",
        "version": 3
      },
      "pygments_lexer": "ipython3",
      "nbconvert_exporter": "python",
      "file_extension": ".py"
    },
    "accelerator": "GPU",
    "kaggle": {
      "accelerator": "gpu",
      "dataSources": [
        {
          "sourceId": 73233,
          "databundleVersionId": 8112053,
          "sourceType": "competition"
        }
      ],
      "dockerImageVersionId": 30674,
      "isInternetEnabled": true,
      "language": "python",
      "sourceType": "notebook",
      "isGpuEnabled": true
    }
  },
  "nbformat_minor": 0,
  "nbformat": 4,
  "cells": [
    {
      "cell_type": "markdown",
      "metadata": {
        "id": "view-in-github",
        "colab_type": "text"
      },
      "source": [
        "<a href=\"https://colab.research.google.com/github/eus-lwq/NYUResnetChallenge/blob/dev/qte_nyucifar10challenge_v2.ipynb\" target=\"_parent\"><img src=\"https://colab.research.google.com/assets/colab-badge.svg\" alt=\"Open In Colab\"/></a>"
      ]
    },
    {
      "cell_type": "markdown",
      "source": [
        "Citation:\n",
        "\n",
        "\n",
        "https://colab.research.google.com/github/Rakshit-Shetty/Resnet-Implementation/blob/master/ResNet_Implementation_on_CIFAR10.ipynb\n",
        "\n",
        "Reference:\n",
        "https://github.com/kuangliu/pytorch-cifar?tab=readme-ov-file\n",
        "[1] Kaiming He, Xiangyu Zhang, Shaoqing Ren, Jian Sun\n",
        "    Deep Residual Learning for Image Recognition. arXiv:1512.03385\n",
        "\n"
      ],
      "metadata": {
        "id": "PG_eqPcLIcfa"
      }
    },
    {
      "cell_type": "markdown",
      "source": [
        "# CIFAR10 Images Classification with Resnet-18"
      ],
      "metadata": {
        "id": "k7hGz9LZ7hfx"
      }
    },
    {
      "cell_type": "markdown",
      "source": [
        "## Library Import"
      ],
      "metadata": {
        "id": "l-2szHjw6X9J"
      }
    },
    {
      "cell_type": "code",
      "source": [
        "!pip install typed-argument-parser"
      ],
      "metadata": {
        "colab": {
          "base_uri": "https://localhost:8080/"
        },
        "id": "9CJANY2FLjgJ",
        "outputId": "c1927dce-76ca-4d37-9492-39ff1d97c2d2"
      },
      "execution_count": null,
      "outputs": [
        {
          "output_type": "stream",
          "name": "stdout",
          "text": [
            "Collecting typed-argument-parser\n",
            "  Downloading typed-argument-parser-1.9.0.tar.gz (50 kB)\n",
            "\u001b[2K     \u001b[90m━━━━━━━━━━━━━━━━━━━━━━━━━━━━━━━━━━━━━━━━\u001b[0m \u001b[32m50.4/50.4 kB\u001b[0m \u001b[31m1.5 MB/s\u001b[0m eta \u001b[36m0:00:00\u001b[0m\n",
            "\u001b[?25h  Preparing metadata (setup.py) ... \u001b[?25l\u001b[?25hdone\n",
            "Collecting typing-inspect>=0.7.1 (from typed-argument-parser)\n",
            "  Downloading typing_inspect-0.9.0-py3-none-any.whl (8.8 kB)\n",
            "Requirement already satisfied: docstring-parser>=0.15 in /usr/local/lib/python3.10/dist-packages (from typed-argument-parser) (0.16)\n",
            "Collecting mypy-extensions>=0.3.0 (from typing-inspect>=0.7.1->typed-argument-parser)\n",
            "  Downloading mypy_extensions-1.0.0-py3-none-any.whl (4.7 kB)\n",
            "Requirement already satisfied: typing-extensions>=3.7.4 in /usr/local/lib/python3.10/dist-packages (from typing-inspect>=0.7.1->typed-argument-parser) (4.10.0)\n",
            "Building wheels for collected packages: typed-argument-parser\n",
            "  Building wheel for typed-argument-parser (setup.py) ... \u001b[?25l\u001b[?25hdone\n",
            "  Created wheel for typed-argument-parser: filename=typed_argument_parser-1.9.0-py3-none-any.whl size=25615 sha256=af015e8d5218b298cbbfe78d5cfbd1d640b2555ff28b527697aea43d023c771a\n",
            "  Stored in directory: /root/.cache/pip/wheels/f0/94/0f/9539f578bed7e1bd423c702e403712f5ee8989f831a71db000\n",
            "Successfully built typed-argument-parser\n",
            "Installing collected packages: mypy-extensions, typing-inspect, typed-argument-parser\n",
            "Successfully installed mypy-extensions-1.0.0 typed-argument-parser-1.9.0 typing-inspect-0.9.0\n"
          ]
        }
      ]
    },
    {
      "cell_type": "code",
      "source": [
        "import pickle\n",
        "import torch\n",
        "import torch.nn as nn\n",
        "import torch.optim as optim\n",
        "import torch.nn.init as init\n",
        "import torch.nn.functional as F\n",
        "import torch.backends.cudnn as cudnn\n",
        "import torchvision.transforms as transforms\n",
        "from torch.utils.data.sampler import SubsetRandomSampler\n",
        "from torchvision import datasets\n",
        "from torchvision.datasets.utils import download_url\n",
        "from torchvision.datasets import ImageFolder\n",
        "from torch.utils.data import DataLoader\n",
        "from torch.utils.data import Dataset\n",
        "import torchvision.transforms as tt\n",
        "from torch.utils.data import random_split\n",
        "from torchvision.utils import make_grid\n",
        "from tap import Tap\n",
        "\n",
        "import matplotlib.pyplot as plt\n",
        "import torchvision\n",
        "import torchvision.transforms as transforms\n",
        "import numpy as np\n",
        "import os\n",
        "import argparse\n",
        "\n",
        "import sys\n",
        "import time\n",
        "import math\n",
        "\n",
        "import shutil\n",
        "import matplotlib.pyplot as plt\n",
        "from PIL import Image\n",
        "%matplotlib inline"
      ],
      "metadata": {
        "id": "aiPX8y_QVfUU",
        "execution": {
          "iopub.status.busy": "2024-04-05T20:54:56.678734Z",
          "iopub.execute_input": "2024-04-05T20:54:56.679113Z",
          "iopub.status.idle": "2024-04-05T20:54:56.692101Z",
          "shell.execute_reply.started": "2024-04-05T20:54:56.679085Z",
          "shell.execute_reply": "2024-04-05T20:54:56.691110Z"
        },
        "trusted": true
      },
      "execution_count": null,
      "outputs": []
    },
    {
      "cell_type": "code",
      "source": [
        "class ArgsParser(Tap):\n",
        "    lr: float = 0.01\n",
        "    momentum: float = 0.9\n",
        "    weight_decay: float = 0.0001\n",
        "    n_epochs: int = 2\n",
        "    start_epoch: int = 0\n",
        "    best_acc: float = 0\n",
        "    batch_size: int = 20\n",
        "    num_workers: int = 0\n",
        "    valid_size: float = 0.2\n",
        "    test_data_path: str = './cifar-10-batches-py/test_batch'\n",
        "    data_dir: str = './cifar-10-batches-py'\n",
        "\n",
        "args = ArgsParser().parse_args(args=[])"
      ],
      "metadata": {
        "id": "tzTcBcvOTX0V"
      },
      "execution_count": null,
      "outputs": []
    },
    {
      "cell_type": "markdown",
      "source": [
        "## CUDA checking"
      ],
      "metadata": {
        "id": "3pljHlCgPC36"
      }
    },
    {
      "cell_type": "code",
      "source": [
        "# check if CUDA is available\n",
        "train_on_gpu = torch.cuda.is_available()\n",
        "\n",
        "if not train_on_gpu:\n",
        "  print('CUDA is not available.  Training on CPU')\n",
        "else:\n",
        "  print('CUDA is available!  Training on GPU')"
      ],
      "metadata": {
        "colab": {
          "base_uri": "https://localhost:8080/"
        },
        "id": "xeKvWNQsPCXl",
        "outputId": "20e98c58-47ca-4b5b-861a-fdb81601b1eb",
        "execution": {
          "iopub.status.busy": "2024-04-05T20:54:56.693707Z",
          "iopub.execute_input": "2024-04-05T20:54:56.693976Z",
          "iopub.status.idle": "2024-04-05T20:54:56.707369Z",
          "shell.execute_reply.started": "2024-04-05T20:54:56.693953Z",
          "shell.execute_reply": "2024-04-05T20:54:56.706521Z"
        },
        "trusted": true
      },
      "execution_count": null,
      "outputs": [
        {
          "output_type": "stream",
          "name": "stdout",
          "text": [
            "CUDA is available!  Training on GPU\n"
          ]
        }
      ]
    },
    {
      "cell_type": "markdown",
      "source": [
        "## Data Loading and Augmentation"
      ],
      "metadata": {
        "id": "daWox2oq78y5"
      }
    },
    {
      "cell_type": "markdown",
      "source": [
        "### Data loading"
      ],
      "metadata": {
        "id": "4f6_lktFLiVO"
      }
    },
    {
      "cell_type": "code",
      "source": [
        "!wget https://www.cs.toronto.edu/~kriz/cifar-10-python.tar.gz\n",
        "!tar -xzvf cifar-10-python.tar.gz"
      ],
      "metadata": {
        "colab": {
          "base_uri": "https://localhost:8080/"
        },
        "id": "uDje5c11cysx",
        "outputId": "423a09f7-9feb-41d9-aa88-8e3c3f412283"
      },
      "execution_count": null,
      "outputs": [
        {
          "output_type": "stream",
          "name": "stdout",
          "text": [
            "--2024-04-07 21:51:22--  https://www.cs.toronto.edu/~kriz/cifar-10-python.tar.gz\n",
            "Resolving www.cs.toronto.edu (www.cs.toronto.edu)... 128.100.3.30\n",
            "Connecting to www.cs.toronto.edu (www.cs.toronto.edu)|128.100.3.30|:443... connected.\n",
            "HTTP request sent, awaiting response... 200 OK\n",
            "Length: 170498071 (163M) [application/x-gzip]\n",
            "Saving to: ‘cifar-10-python.tar.gz’\n",
            "\n",
            "cifar-10-python.tar 100%[===================>] 162.60M  50.1MB/s    in 3.6s    \n",
            "\n",
            "2024-04-07 21:51:26 (45.2 MB/s) - ‘cifar-10-python.tar.gz’ saved [170498071/170498071]\n",
            "\n",
            "cifar-10-batches-py/\n",
            "cifar-10-batches-py/data_batch_4\n",
            "cifar-10-batches-py/readme.html\n",
            "cifar-10-batches-py/test_batch\n",
            "cifar-10-batches-py/data_batch_3\n",
            "cifar-10-batches-py/batches.meta\n",
            "cifar-10-batches-py/data_batch_2\n",
            "cifar-10-batches-py/data_batch_5\n",
            "cifar-10-batches-py/data_batch_1\n"
          ]
        }
      ]
    },
    {
      "cell_type": "code",
      "source": [
        "# Function to load a single batch file\n",
        "def load_cifar_batch(filename):\n",
        "    with open(filename, 'rb') as f:\n",
        "        datadict = pickle.load(f, encoding='bytes')\n",
        "        X = datadict[b'data']\n",
        "        Y = datadict[b'labels']\n",
        "        X = X.reshape(10000, 3, 32, 32).astype(\"float\")\n",
        "        Y = np.array(Y)\n",
        "        return X, Y\n",
        "\n",
        "\n",
        "# Function to load the test batch without labels\n",
        "def load_cifar_test_nolabels(filename):\n",
        "    with open(filename, 'rb') as f:\n",
        "        try:\n",
        "            datadict = pickle.load(f, encoding='bytes')\n",
        "            # print(\"Data dictionary keys:\", datadict.keys())  # To check the structure of the dictionary\n",
        "            # Access the correct key for the data\n",
        "            X = datadict[b'data']\n",
        "            X = X.reshape(-1, 3, 32, 32).astype('float32')  # Adjust shape accordingly if needed\n",
        "            return X\n",
        "        except EOFError as e:\n",
        "            print(\"EOFError while unpickling the file:\", e)\n",
        "        except Exception as e:\n",
        "            print(\"An error occurred:\", e)\n",
        "\n",
        "# Full paths from the os.walk output\n",
        "data_dir = args.data_dir\n",
        "#data_dir = '/kaggle/input/deep-learning-mini-project-spring-24-nyu/cifar-10-python/cifar-10-batches-py'\n",
        "# test_data_path = '/kaggle/input/deep-learning-mini-project-spring-24-nyu/cifar_test_nolabels.pkl'\n",
        "\n",
        "# Loading the labeled batches using the full paths\n",
        "batch_files = [os.path.join(data_dir, 'data_batch_{}'.format(i)) for i in range(1, 6)]\n",
        "data_batches = [load_cifar_batch(batch_file) for batch_file in batch_files]\n",
        "train_data = np.vstack([batch[0] for batch in data_batches])\n",
        "train_labels = np.hstack([batch[1] for batch in data_batches])\n",
        "\n",
        "# # Loading the test batch without labels using the full path\n",
        "# test_data = load_cifar_test_nolabels(test_data_path)"
      ],
      "metadata": {
        "execution": {
          "iopub.status.busy": "2024-04-05T20:54:56.708577Z",
          "iopub.execute_input": "2024-04-05T20:54:56.708955Z",
          "iopub.status.idle": "2024-04-05T20:54:57.700881Z",
          "shell.execute_reply.started": "2024-04-05T20:54:56.708925Z",
          "shell.execute_reply": "2024-04-05T20:54:57.700108Z"
        },
        "trusted": true,
        "id": "H4QZ_3HOLiVP"
      },
      "execution_count": null,
      "outputs": []
    },
    {
      "cell_type": "markdown",
      "source": [
        "### Dataset Processing"
      ],
      "metadata": {
        "id": "ooHS7mRWLiVP"
      }
    },
    {
      "cell_type": "code",
      "source": [
        "class CIFAR10Dataset(Dataset):\n",
        "    def __init__(self, data, targets=None, transform=None):\n",
        "        self.data = data\n",
        "        self.targets = targets\n",
        "        self.transform = transform\n",
        "\n",
        "    def __len__(self):\n",
        "        return len(self.data)\n",
        "\n",
        "    def __getitem__(self, index):\n",
        "        \"\"\"\n",
        "        Returns one sample at a time\n",
        "        \"\"\"\n",
        "        if index >= len(self.data):\n",
        "            raise IndexError(f'Requested index {index} exceeds dataset length {len(self.data)}.')\n",
        "\n",
        "        # Select sample\n",
        "        image = self.data[index]\n",
        "\n",
        "        # Convert image from numpy array to PIL Image to apply transform\n",
        "        image = Image.fromarray(image.astype('uint8').transpose((1, 2, 0)))\n",
        "\n",
        "        # Apply the given transform\n",
        "        if self.transform:\n",
        "            image = self.transform(image)\n",
        "\n",
        "        # Return image and the corresponding label if available\n",
        "        if self.targets is not None:\n",
        "            target = self.targets[index]\n",
        "            return image, target\n",
        "        else:\n",
        "            return image"
      ],
      "metadata": {
        "execution": {
          "iopub.status.busy": "2024-04-05T20:54:57.702875Z",
          "iopub.execute_input": "2024-04-05T20:54:57.703161Z",
          "iopub.status.idle": "2024-04-05T20:54:57.711022Z",
          "shell.execute_reply.started": "2024-04-05T20:54:57.703137Z",
          "shell.execute_reply": "2024-04-05T20:54:57.710076Z"
        },
        "trusted": true,
        "id": "ejB_weNPLiVP"
      },
      "execution_count": null,
      "outputs": []
    },
    {
      "cell_type": "markdown",
      "source": [
        "### Data Augmentation"
      ],
      "metadata": {
        "id": "3tBr0REWLiVP"
      }
    },
    {
      "cell_type": "code",
      "source": [
        "# number of subprocesses to use for data loading\n",
        "num_workers = args.num_workers\n",
        "# how many samples per batch to load\n",
        "batch_size = args.batch_size\n",
        "# percentage of training set to use as validation\n",
        "valid_size = args.valid_size\n",
        "# obtain training indices that will be used for validation\n",
        "num_train = len(train_data)\n",
        "indices = list(range(num_train))\n",
        "np.random.shuffle(indices)\n",
        "split = int(np.floor(valid_size * num_train))\n",
        "train_idx, valid_idx = indices[split:], indices[:split]\n",
        "# shift = min(valid_idx)\n",
        "# valid_idx = [i - shift for i in valid_idx]\n",
        "# assert min(valid_idx) >= 0\n",
        "\n",
        "############\n",
        "# Generate new validation indices starting from 0\n",
        "valid_idx = list(range(0, split))\n",
        "# Make sure the new indices are within the bounds\n",
        "assert min(valid_idx) >= 0 and max(valid_idx) < 10000, \"Valid indices are out of bounds.\"\n",
        "############\n",
        "\n",
        "# define samplers for obtaining training and validation batches\n",
        "train_sampler = SubsetRandomSampler(train_idx)\n",
        "valid_sampler = SubsetRandomSampler(valid_idx)\n",
        "\n",
        "# Define transforms\n",
        "transform_train = transforms.Compose([\n",
        "    transforms.RandomCrop(32, padding=4),\n",
        "    transforms.RandomHorizontalFlip(),\n",
        "    transforms.ToTensor(),\n",
        "    transforms.Normalize((0.4914, 0.4822, 0.4465), (0.2023, 0.1994, 0.2010)),\n",
        "])\n",
        "\n",
        "transform_test = transforms.Compose([\n",
        "    transforms.ToTensor(),\n",
        "    transforms.Normalize((0.4914, 0.4822, 0.4465), (0.2023, 0.1994, 0.2010)),\n",
        "])\n",
        "\n",
        "# Create dataset objects\n",
        "train_dataset = CIFAR10Dataset(train_data, train_labels, transform=transform_train)\n",
        "valid_dataset = CIFAR10Dataset(train_data[valid_idx], train_labels[valid_idx], transform=transform_test)\n",
        "# test_dataset = CIFAR10Dataset(test_data, transform=transform_test)\n",
        "\n",
        "# Create data loaders\n",
        "train_loader = DataLoader(train_dataset, batch_size=batch_size, sampler=train_sampler, num_workers=num_workers)\n",
        "valid_loader = DataLoader(valid_dataset, batch_size=batch_size, sampler=valid_sampler, num_workers=num_workers, drop_last=True)\n",
        "# test_loader = DataLoader(test_dataset, batch_size=batch_size, num_workers=num_workers)"
      ],
      "metadata": {
        "execution": {
          "iopub.status.busy": "2024-04-05T20:54:57.712203Z",
          "iopub.execute_input": "2024-04-05T20:54:57.712514Z",
          "iopub.status.idle": "2024-04-05T20:54:57.809372Z",
          "shell.execute_reply.started": "2024-04-05T20:54:57.712491Z",
          "shell.execute_reply": "2024-04-05T20:54:57.808622Z"
        },
        "trusted": true,
        "id": "_6K-1DcvLiVP"
      },
      "execution_count": null,
      "outputs": []
    },
    {
      "cell_type": "code",
      "source": [
        "# specify the image classes\n",
        "classes = ['airplane', 'automobile', 'bird', 'cat', 'deer','dog', 'frog', 'horse', 'ship', 'truck']"
      ],
      "metadata": {
        "execution": {
          "iopub.status.busy": "2024-04-05T20:54:57.810643Z",
          "iopub.execute_input": "2024-04-05T20:54:57.810929Z",
          "iopub.status.idle": "2024-04-05T20:54:57.815298Z",
          "shell.execute_reply.started": "2024-04-05T20:54:57.810905Z",
          "shell.execute_reply": "2024-04-05T20:54:57.814393Z"
        },
        "trusted": true,
        "id": "EjPFrkJALiVP"
      },
      "execution_count": null,
      "outputs": []
    },
    {
      "cell_type": "markdown",
      "source": [
        "## visualization of dataset"
      ],
      "metadata": {
        "id": "w7KxoZXJO4ER"
      }
    },
    {
      "cell_type": "code",
      "source": [
        "# helper function to un-normalize and display an image\n",
        "def imshow(img):\n",
        "  img = img / 2 + 0.5  # unnormalize\n",
        "  img = np.clip(img, 0, 1)\n",
        "  plt.imshow(np.transpose(img, (1, 2, 0)))  # convert from Tensor image\n",
        "\n",
        "# obtain one batch of training images\n",
        "dataiter = iter(train_loader)\n",
        "# images, labels = dataiter.next()\n",
        "images, labels = next(dataiter)\n",
        "images = images.numpy() # convert images to numpy for display\n",
        "\n",
        "# plot the images in the batch, along with the corresponding labels\n",
        "fig = plt.figure(figsize=(25, 4))\n",
        "# display 20 images\n",
        "for idx in np.arange(20):\n",
        "  ax = fig.add_subplot(2, int(20/2), idx+1, xticks=[], yticks=[])\n",
        "  imshow(images[idx])\n",
        "  ax.set_title(classes[labels[idx]])"
      ],
      "metadata": {
        "colab": {
          "base_uri": "https://localhost:8080/",
          "height": 221
        },
        "id": "NiccIDI6O6ac",
        "outputId": "f1480bb4-ded7-4e53-aac2-7a4d8d9a4132",
        "execution": {
          "iopub.status.busy": "2024-04-05T20:54:57.816661Z",
          "iopub.execute_input": "2024-04-05T20:54:57.817665Z",
          "iopub.status.idle": "2024-04-05T20:54:59.059216Z",
          "shell.execute_reply.started": "2024-04-05T20:54:57.817634Z",
          "shell.execute_reply": "2024-04-05T20:54:59.058275Z"
        },
        "trusted": true
      },
      "execution_count": null,
      "outputs": [
        {
          "output_type": "display_data",
          "data": {
            "text/plain": [
              "<Figure size 2500x400 with 20 Axes>"
            ],
            "image/png": "[encoded data removed]"
          },
          "metadata": {}
        }
      ]
    },
    {
      "cell_type": "markdown",
      "source": [
        "## Resnet18 Class Structure in PyTorch"
      ],
      "metadata": {
        "id": "STYyX10bRaFM"
      }
    },
    {
      "cell_type": "code",
      "source": [
        "class BasicBlock(nn.Module):\n",
        "    expansion = 1\n",
        "\n",
        "    def __init__(self, in_planes, planes, stride=1):\n",
        "        super(BasicBlock, self).__init__()\n",
        "        self.conv1 = nn.Conv2d(\n",
        "            in_planes, planes, kernel_size=3, stride=stride, padding=1, bias=False)\n",
        "        self.bn1 = nn.BatchNorm2d(planes)\n",
        "        self.conv2 = nn.Conv2d(planes, planes, kernel_size=3,\n",
        "                               stride=1, padding=1, bias=False)\n",
        "        self.bn2 = nn.BatchNorm2d(planes)\n",
        "\n",
        "        self.shortcut = nn.Sequential()\n",
        "        if stride != 1 or in_planes != self.expansion*planes:\n",
        "            self.shortcut = nn.Sequential(\n",
        "                nn.Conv2d(in_planes, self.expansion*planes,\n",
        "                          kernel_size=1, stride=stride, bias=False),\n",
        "                nn.BatchNorm2d(self.expansion*planes)\n",
        "            )\n",
        "\n",
        "    def forward(self, x):\n",
        "        out = F.relu(self.bn1(self.conv1(x)))\n",
        "        out = self.bn2(self.conv2(out))\n",
        "        out += self.shortcut(x)\n",
        "        out = F.relu(out)\n",
        "        return out\n",
        "\n",
        "\n",
        "class Bottleneck(nn.Module):\n",
        "    expansion = 4\n",
        "\n",
        "    def __init__(self, in_planes, planes, stride=1):\n",
        "        super(Bottleneck, self).__init__()\n",
        "        self.conv1 = nn.Conv2d(in_planes, planes, kernel_size=1, bias=False)\n",
        "        self.bn1 = nn.BatchNorm2d(planes)\n",
        "        self.conv2 = nn.Conv2d(planes, planes, kernel_size=3,\n",
        "                               stride=stride, padding=1, bias=False)\n",
        "        self.bn2 = nn.BatchNorm2d(planes)\n",
        "        self.conv3 = nn.Conv2d(planes, self.expansion *\n",
        "                               planes, kernel_size=1, bias=False)\n",
        "        self.bn3 = nn.BatchNorm2d(self.expansion*planes)\n",
        "\n",
        "        self.shortcut = nn.Sequential()\n",
        "        if stride != 1 or in_planes != self.expansion*planes:\n",
        "            self.shortcut = nn.Sequential(\n",
        "                nn.Conv2d(in_planes, self.expansion*planes,\n",
        "                          kernel_size=1, stride=stride, bias=False),\n",
        "                nn.BatchNorm2d(self.expansion*planes)\n",
        "            )\n",
        "\n",
        "    def forward(self, x):\n",
        "        out = F.relu(self.bn1(self.conv1(x)))\n",
        "        out = F.relu(self.bn2(self.conv2(out)))\n",
        "        out = self.bn3(self.conv3(out))\n",
        "        out += self.shortcut(x)\n",
        "        out = F.relu(out)\n",
        "        return out\n",
        "\n",
        "\n",
        "class ResNet(nn.Module):\n",
        "    def __init__(self, block, num_blocks, num_classes=10):\n",
        "        super(ResNet, self).__init__()\n",
        "        self.in_planes = 64\n",
        "\n",
        "        self.conv1 = nn.Conv2d(3, 64, kernel_size=3,\n",
        "                               stride=1, padding=1, bias=False)\n",
        "        self.bn1 = nn.BatchNorm2d(64)\n",
        "        self.layer1 = self._make_layer(block, 64, num_blocks[0], stride=1)\n",
        "        self.layer2 = self._make_layer(block, 128, num_blocks[1], stride=2)\n",
        "        self.layer3 = self._make_layer(block, 256, num_blocks[2], stride=2)\n",
        "        self.layer4 = self._make_layer(block, 512, num_blocks[3], stride=2)\n",
        "        self.linear = nn.Linear(512*block.expansion, num_classes)\n",
        "\n",
        "    def _make_layer(self, block, planes, num_blocks, stride):\n",
        "        strides = [stride] + [1]*(num_blocks-1)\n",
        "        layers = []\n",
        "        for stride in strides:\n",
        "            layers.append(block(self.in_planes, planes, stride))\n",
        "            self.in_planes = planes * block.expansion\n",
        "        return nn.Sequential(*layers)\n",
        "\n",
        "    def forward(self, x):\n",
        "        out = F.relu(self.bn1(self.conv1(x)))\n",
        "        out = self.layer1(out)\n",
        "        out = self.layer2(out)\n",
        "        out = self.layer3(out)\n",
        "        out = self.layer4(out)\n",
        "        out = F.avg_pool2d(out, 4)\n",
        "        out = out.view(out.size(0), -1)\n",
        "        out = self.linear(out)\n",
        "        return out\n",
        "\n",
        "\n",
        "def ResNet18():\n",
        "    return ResNet(BasicBlock, [2, 2, 2, 2])\n",
        "\n",
        "\n",
        "def test():\n",
        "    net = ResNet18()\n",
        "    y = net(torch.randn(1, 3, 32, 32))\n",
        "    print(y.size())\n",
        "    print(net)\n",
        "\n",
        "test()\n"
      ],
      "metadata": {
        "id": "y4IyfPA6PFcd",
        "colab": {
          "base_uri": "https://localhost:8080/"
        },
        "outputId": "ce170ad5-29f4-4405-c0a0-64a5f1185fc0",
        "execution": {
          "iopub.status.busy": "2024-04-05T20:54:59.060704Z",
          "iopub.execute_input": "2024-04-05T20:54:59.061005Z",
          "iopub.status.idle": "2024-04-05T20:54:59.202972Z",
          "shell.execute_reply.started": "2024-04-05T20:54:59.060980Z",
          "shell.execute_reply": "2024-04-05T20:54:59.202054Z"
        },
        "trusted": true
      },
      "execution_count": null,
      "outputs": [
        {
          "output_type": "stream",
          "name": "stdout",
          "text": [
            "torch.Size([1, 10])\n",
            "ResNet(\n",
            "  (conv1): Conv2d(3, 64, kernel_size=(3, 3), stride=(1, 1), padding=(1, 1), bias=False)\n",
            "  (bn1): BatchNorm2d(64, eps=1e-05, momentum=0.1, affine=True, track_running_stats=True)\n",
            "  (layer1): Sequential(\n",
            "    (0): BasicBlock(\n",
            "      (conv1): Conv2d(64, 64, kernel_size=(3, 3), stride=(1, 1), padding=(1, 1), bias=False)\n",
            "      (bn1): BatchNorm2d(64, eps=1e-05, momentum=0.1, affine=True, track_running_stats=True)\n",
            "      (conv2): Conv2d(64, 64, kernel_size=(3, 3), stride=(1, 1), padding=(1, 1), bias=False)\n",
            "      (bn2): BatchNorm2d(64, eps=1e-05, momentum=0.1, affine=True, track_running_stats=True)\n",
            "      (shortcut): Sequential()\n",
            "    )\n",
            "    (1): BasicBlock(\n",
            "      (conv1): Conv2d(64, 64, kernel_size=(3, 3), stride=(1, 1), padding=(1, 1), bias=False)\n",
            "      (bn1): BatchNorm2d(64, eps=1e-05, momentum=0.1, affine=True, track_running_stats=True)\n",
            "      (conv2): Conv2d(64, 64, kernel_size=(3, 3), stride=(1, 1), padding=(1, 1), bias=False)\n",
            "      (bn2): BatchNorm2d(64, eps=1e-05, momentum=0.1, affine=True, track_running_stats=True)\n",
            "      (shortcut): Sequential()\n",
            "    )\n",
            "  )\n",
            "  (layer2): Sequential(\n",
            "    (0): BasicBlock(\n",
            "      (conv1): Conv2d(64, 128, kernel_size=(3, 3), stride=(2, 2), padding=(1, 1), bias=False)\n",
            "      (bn1): BatchNorm2d(128, eps=1e-05, momentum=0.1, affine=True, track_running_stats=True)\n",
            "      (conv2): Conv2d(128, 128, kernel_size=(3, 3), stride=(1, 1), padding=(1, 1), bias=False)\n",
            "      (bn2): BatchNorm2d(128, eps=1e-05, momentum=0.1, affine=True, track_running_stats=True)\n",
            "      (shortcut): Sequential(\n",
            "        (0): Conv2d(64, 128, kernel_size=(1, 1), stride=(2, 2), bias=False)\n",
            "        (1): BatchNorm2d(128, eps=1e-05, momentum=0.1, affine=True, track_running_stats=True)\n",
            "      )\n",
            "    )\n",
            "    (1): BasicBlock(\n",
            "      (conv1): Conv2d(128, 128, kernel_size=(3, 3), stride=(1, 1), padding=(1, 1), bias=False)\n",
            "      (bn1): BatchNorm2d(128, eps=1e-05, momentum=0.1, affine=True, track_running_stats=True)\n",
            "      (conv2): Conv2d(128, 128, kernel_size=(3, 3), stride=(1, 1), padding=(1, 1), bias=False)\n",
            "      (bn2): BatchNorm2d(128, eps=1e-05, momentum=0.1, affine=True, track_running_stats=True)\n",
            "      (shortcut): Sequential()\n",
            "    )\n",
            "  )\n",
            "  (layer3): Sequential(\n",
            "    (0): BasicBlock(\n",
            "      (conv1): Conv2d(128, 256, kernel_size=(3, 3), stride=(2, 2), padding=(1, 1), bias=False)\n",
            "      (bn1): BatchNorm2d(256, eps=1e-05, momentum=0.1, affine=True, track_running_stats=True)\n",
            "      (conv2): Conv2d(256, 256, kernel_size=(3, 3), stride=(1, 1), padding=(1, 1), bias=False)\n",
            "      (bn2): BatchNorm2d(256, eps=1e-05, momentum=0.1, affine=True, track_running_stats=True)\n",
            "      (shortcut): Sequential(\n",
            "        (0): Conv2d(128, 256, kernel_size=(1, 1), stride=(2, 2), bias=False)\n",
            "        (1): BatchNorm2d(256, eps=1e-05, momentum=0.1, affine=True, track_running_stats=True)\n",
            "      )\n",
            "    )\n",
            "    (1): BasicBlock(\n",
            "      (conv1): Conv2d(256, 256, kernel_size=(3, 3), stride=(1, 1), padding=(1, 1), bias=False)\n",
            "      (bn1): BatchNorm2d(256, eps=1e-05, momentum=0.1, affine=True, track_running_stats=True)\n",
            "      (conv2): Conv2d(256, 256, kernel_size=(3, 3), stride=(1, 1), padding=(1, 1), bias=False)\n",
            "      (bn2): BatchNorm2d(256, eps=1e-05, momentum=0.1, affine=True, track_running_stats=True)\n",
            "      (shortcut): Sequential()\n",
            "    )\n",
            "  )\n",
            "  (layer4): Sequential(\n",
            "    (0): BasicBlock(\n",
            "      (conv1): Conv2d(256, 512, kernel_size=(3, 3), stride=(2, 2), padding=(1, 1), bias=False)\n",
            "      (bn1): BatchNorm2d(512, eps=1e-05, momentum=0.1, affine=True, track_running_stats=True)\n",
            "      (conv2): Conv2d(512, 512, kernel_size=(3, 3), stride=(1, 1), padding=(1, 1), bias=False)\n",
            "      (bn2): BatchNorm2d(512, eps=1e-05, momentum=0.1, affine=True, track_running_stats=True)\n",
            "      (shortcut): Sequential(\n",
            "        (0): Conv2d(256, 512, kernel_size=(1, 1), stride=(2, 2), bias=False)\n",
            "        (1): BatchNorm2d(512, eps=1e-05, momentum=0.1, affine=True, track_running_stats=True)\n",
            "      )\n",
            "    )\n",
            "    (1): BasicBlock(\n",
            "      (conv1): Conv2d(512, 512, kernel_size=(3, 3), stride=(1, 1), padding=(1, 1), bias=False)\n",
            "      (bn1): BatchNorm2d(512, eps=1e-05, momentum=0.1, affine=True, track_running_stats=True)\n",
            "      (conv2): Conv2d(512, 512, kernel_size=(3, 3), stride=(1, 1), padding=(1, 1), bias=False)\n",
            "      (bn2): BatchNorm2d(512, eps=1e-05, momentum=0.1, affine=True, track_running_stats=True)\n",
            "      (shortcut): Sequential()\n",
            "    )\n",
            "  )\n",
            "  (linear): Linear(in_features=512, out_features=10, bias=True)\n",
            ")\n"
          ]
        }
      ]
    },
    {
      "cell_type": "markdown",
      "source": [
        "## Train"
      ],
      "metadata": {
        "id": "aWpY4kOIRvbJ"
      }
    },
    {
      "cell_type": "markdown",
      "source": [
        "### UTILS"
      ],
      "metadata": {
        "id": "VDe5KyhXVY9h"
      }
    },
    {
      "cell_type": "code",
      "source": [
        "'''Some helper functions for PyTorch, including:\n",
        "    - get_mean_and_std: calculate the mean and std value of dataset.\n",
        "    - msr_init: net parameter initialization.\n",
        "    - progress_bar: progress bar mimic xlua.progress.\n",
        "'''\n",
        "\n",
        "def get_mean_and_std(dataset):\n",
        "    '''Compute the mean and std value of dataset.'''\n",
        "    dataloader = torch.utils.data.DataLoader(dataset, batch_size=1, shuffle=True, num_workers=2)\n",
        "    mean = torch.zeros(3)\n",
        "    std = torch.zeros(3)\n",
        "    print('==> Computing mean and std..')\n",
        "    for inputs, targets in dataloader:\n",
        "        for i in range(3):\n",
        "            mean[i] += inputs[:,i,:,:].mean()\n",
        "            std[i] += inputs[:,i,:,:].std()\n",
        "    mean.div_(len(dataset))\n",
        "    std.div_(len(dataset))\n",
        "    return mean, std\n",
        "\n",
        "def init_params(net):\n",
        "    '''Init layer parameters.'''\n",
        "    for m in net.modules():\n",
        "        if isinstance(m, nn.Conv2d):\n",
        "            init.kaiming_normal(m.weight, mode='fan_out')\n",
        "            if m.bias:\n",
        "                init.constant(m.bias, 0)\n",
        "        elif isinstance(m, nn.BatchNorm2d):\n",
        "            init.constant(m.weight, 1)\n",
        "            init.constant(m.bias, 0)\n",
        "        elif isinstance(m, nn.Linear):\n",
        "            init.normal(m.weight, std=1e-3)\n",
        "            if m.bias:\n",
        "                init.constant(m.bias, 0)\n",
        "\n",
        "\n",
        "\n",
        "\n",
        "# This should work both in scripts and interactive shells\n",
        "term_size = shutil.get_terminal_size(fallback=(80, 20))\n",
        "term_width = term_size.columns\n",
        "\n",
        "# _, term_width = os.popen('stty size', 'r').read().split()\n",
        "term_width = int(term_width)\n",
        "\n",
        "TOTAL_BAR_LENGTH = 65.\n",
        "last_time = time.time()\n",
        "begin_time = last_time\n",
        "\n",
        "def progress_bar(current, total, msg=None):\n",
        "    global last_time, begin_time\n",
        "    if current == 0:\n",
        "        begin_time = time.time()  # Reset for new bar.\n",
        "\n",
        "    cur_len = int(TOTAL_BAR_LENGTH*current/total)\n",
        "    rest_len = int(TOTAL_BAR_LENGTH - cur_len) - 1\n",
        "\n",
        "    sys.stdout.write(' [')\n",
        "    for i in range(cur_len):\n",
        "        sys.stdout.write('=')\n",
        "    sys.stdout.write('>')\n",
        "    for i in range(rest_len):\n",
        "        sys.stdout.write('.')\n",
        "    sys.stdout.write(']')\n",
        "\n",
        "    cur_time = time.time()\n",
        "    step_time = cur_time - last_time\n",
        "    last_time = cur_time\n",
        "    tot_time = cur_time - begin_time\n",
        "\n",
        "    L = []\n",
        "    L.append('  Step: %s' % format_time(step_time))\n",
        "    L.append(' | Tot: %s' % format_time(tot_time))\n",
        "    if msg:\n",
        "        L.append(' | ' + msg)\n",
        "\n",
        "    msg = ''.join(L)\n",
        "    sys.stdout.write(msg)\n",
        "    for i in range(term_width-int(TOTAL_BAR_LENGTH)-len(msg)-3):\n",
        "        sys.stdout.write(' ')\n",
        "\n",
        "    # Go back to the center of the bar.\n",
        "    for i in range(term_width-int(TOTAL_BAR_LENGTH/2)+2):\n",
        "        sys.stdout.write('\\b')\n",
        "    sys.stdout.write(' %d/%d ' % (current+1, total))\n",
        "\n",
        "    if current < total-1:\n",
        "        sys.stdout.write('\\r')\n",
        "    else:\n",
        "        sys.stdout.write('\\n')\n",
        "    sys.stdout.flush()\n",
        "\n",
        "def format_time(seconds):\n",
        "    days = int(seconds / 3600/24)\n",
        "    seconds = seconds - days*3600*24\n",
        "    hours = int(seconds / 3600)\n",
        "    seconds = seconds - hours*3600\n",
        "    minutes = int(seconds / 60)\n",
        "    seconds = seconds - minutes*60\n",
        "    secondsf = int(seconds)\n",
        "    seconds = seconds - secondsf\n",
        "    millis = int(seconds*1000)\n",
        "\n",
        "    f = ''\n",
        "    i = 1\n",
        "    if days > 0:\n",
        "        f += str(days) + 'D'\n",
        "        i += 1\n",
        "    if hours > 0 and i <= 2:\n",
        "        f += str(hours) + 'h'\n",
        "        i += 1\n",
        "    if minutes > 0 and i <= 2:\n",
        "        f += str(minutes) + 'm'\n",
        "        i += 1\n",
        "    if secondsf > 0 and i <= 2:\n",
        "        f += str(secondsf) + 's'\n",
        "        i += 1\n",
        "    if millis > 0 and i <= 2:\n",
        "        f += str(millis) + 'ms'\n",
        "        i += 1\n",
        "    if f == '':\n",
        "        f = '0ms'\n",
        "    return f"
      ],
      "metadata": {
        "id": "aNU7sEgSVYg3",
        "execution": {
          "iopub.status.busy": "2024-04-05T20:54:59.204433Z",
          "iopub.execute_input": "2024-04-05T20:54:59.204928Z",
          "iopub.status.idle": "2024-04-05T20:54:59.226658Z",
          "shell.execute_reply.started": "2024-04-05T20:54:59.204893Z",
          "shell.execute_reply": "2024-04-05T20:54:59.225770Z"
        },
        "trusted": true
      },
      "execution_count": null,
      "outputs": []
    },
    {
      "cell_type": "markdown",
      "source": [
        "### Model Define"
      ],
      "metadata": {
        "id": "JxRWE3CoSGOx"
      }
    },
    {
      "cell_type": "code",
      "source": [
        "device = 'cuda' if torch.cuda.is_available() else 'cpu'\n",
        "print(\"device:\",device)\n",
        "best_acc = args.best_acc  # best test accuracy\n",
        "start_epoch = args.start_epoch  # start from epoch 0 or last checkpoint epoch\n",
        "# epoch = 200\n",
        "# Model\n",
        "print('==> Building model..')\n",
        "net = ResNet18()\n",
        "net = net.to(device)\n",
        "if device == 'cuda':\n",
        "    net = torch.nn.DataParallel(net)\n",
        "    cudnn.benchmark = True\n",
        "\n",
        "# sgd\n",
        "criterion = nn.CrossEntropyLoss()\n",
        "optimizer = optim.SGD(net.parameters(), lr=args.lr, momentum=args.momentum, weight_decay=args.weight_decay)\n",
        "scheduler = torch.optim.lr_scheduler.CosineAnnealingLR(optimizer, T_max=args.n_epochs)"
      ],
      "metadata": {
        "colab": {
          "base_uri": "https://localhost:8080/"
        },
        "id": "mqfxlctzSF9R",
        "outputId": "ba4e2b55-250f-4498-f543-ee57af63de0a",
        "execution": {
          "iopub.status.busy": "2024-04-05T20:54:59.229437Z",
          "iopub.execute_input": "2024-04-05T20:54:59.229720Z",
          "iopub.status.idle": "2024-04-05T20:54:59.354240Z",
          "shell.execute_reply.started": "2024-04-05T20:54:59.229696Z",
          "shell.execute_reply": "2024-04-05T20:54:59.353218Z"
        },
        "trusted": true
      },
      "execution_count": null,
      "outputs": [
        {
          "output_type": "stream",
          "name": "stdout",
          "text": [
            "device: cuda\n",
            "==> Building model..\n"
          ]
        }
      ]
    },
    {
      "cell_type": "markdown",
      "source": [
        "### Training Start"
      ],
      "metadata": {
        "id": "XjiQvFv6UyYa"
      }
    },
    {
      "cell_type": "code",
      "source": [
        "# number of epochs to train the model\n",
        "n_epochs = args.n_epochs\n",
        "\n",
        "valid_loss_min = np.Inf # track change in validation loss\n",
        "\n",
        "train_losses = []\n",
        "valid_losses = []\n",
        "\n",
        "for epoch in range(1, n_epochs+1):\n",
        "    # keep track of training and validation loss\n",
        "    train_loss = 0.0\n",
        "    valid_loss = 0.0\n",
        "\n",
        "    ###################\n",
        "    # train the model #\n",
        "    ###################\n",
        "    net.train()\n",
        "    for batch_idx, (data, target) in enumerate(train_loader):\n",
        "    # move tensors to GPU if CUDA is available\n",
        "        if train_on_gpu:\n",
        "            data, target = data.cuda(), target.cuda()\n",
        "        # clear the gradients of all optimized variables\n",
        "        optimizer.zero_grad()\n",
        "        # forward pass: compute predicted outputs by passing inputs to the model\n",
        "        output = net(data)\n",
        "        # calculate the batch loss\n",
        "        loss = criterion(output, target)\n",
        "        # backward pass: compute gradient of the loss with respect to model parameters\n",
        "        loss.backward()\n",
        "        # perform a single optimization step (parameter update)\n",
        "        optimizer.step()\n",
        "        # update training loss\n",
        "        train_loss += loss.item()*data.size(0)\n",
        "\n",
        "    ######################\n",
        "    # validate the model #\n",
        "    ######################\n",
        "    net.eval()\n",
        "    for batch_idx, (data, target) in enumerate(valid_loader):\n",
        "    # move tensors to GPU if CUDA is available\n",
        "        if train_on_gpu:\n",
        "          data, target = data.cuda(), target.cuda()\n",
        "        # forward pass: compute predicted outputs by passing inputs to the model\n",
        "        output = net(data)\n",
        "        # calculate the batch loss\n",
        "        loss = criterion(output, target)\n",
        "        # update average validation loss\n",
        "        valid_loss += loss.item()*data.size(0)\n",
        "\n",
        "    # calculate average losses\n",
        "    train_loss = train_loss/len(train_loader.sampler)\n",
        "    valid_loss = valid_loss/len(valid_loader.sampler)\n",
        "    train_losses.append(train_loss)\n",
        "    valid_losses.append(valid_loss)\n",
        "\n",
        "\n",
        "    # print training/validation statistics\n",
        "    print('Epoch: {} \\tTraining Loss: {:.6f} \\tValidation Loss: {:.6f}'.format(\n",
        "      epoch, train_loss, valid_loss))\n",
        "\n",
        "    # save model if validation loss has decreased\n",
        "    if valid_loss <= valid_loss_min:\n",
        "        print('Validation loss decreased ({:.6f} --> {:.6f}).  Saving model ...'.format(\n",
        "        valid_loss_min,\n",
        "        valid_loss))\n",
        "        torch.save(net.state_dict(), 'ResNet18.pt')\n",
        "        valid_loss_min = valid_loss"
      ],
      "metadata": {
        "colab": {
          "base_uri": "https://localhost:8080/"
        },
        "id": "-IJwacV2Wl-v",
        "outputId": "f5175b97-2a14-4641-a438-b38bc881121f",
        "execution": {
          "iopub.status.busy": "2024-04-05T20:57:57.386838Z",
          "iopub.execute_input": "2024-04-05T20:57:57.387221Z",
          "iopub.status.idle": "2024-04-05T22:21:12.970636Z",
          "shell.execute_reply.started": "2024-04-05T20:57:57.387193Z",
          "shell.execute_reply": "2024-04-05T22:21:12.969725Z"
        },
        "trusted": true
      },
      "execution_count": null,
      "outputs": [
        {
          "output_type": "stream",
          "name": "stdout",
          "text": [
            "Epoch: 1 \tTraining Loss: 1.628092 \tValidation Loss: 1.273988\n",
            "Validation loss decreased (inf --> 1.273988).  Saving model ...\n",
            "Epoch: 2 \tTraining Loss: 1.122113 \tValidation Loss: 0.953342\n",
            "Validation loss decreased (1.273988 --> 0.953342).  Saving model ...\n"
          ]
        }
      ]
    },
    {
      "cell_type": "code",
      "source": [
        "net.load_state_dict(torch.load('ResNet18.pt'))"
      ],
      "metadata": {
        "id": "pV10iFCxWprn",
        "execution": {
          "iopub.status.busy": "2024-04-05T22:37:45.455243Z",
          "iopub.execute_input": "2024-04-05T22:37:45.456124Z",
          "iopub.status.idle": "2024-04-05T22:37:45.514005Z",
          "shell.execute_reply.started": "2024-04-05T22:37:45.456090Z",
          "shell.execute_reply": "2024-04-05T22:37:45.513120Z"
        },
        "trusted": true,
        "colab": {
          "base_uri": "https://localhost:8080/"
        },
        "outputId": "46402ef7-0c1e-4b83-8d6b-1ec8f24ebada"
      },
      "execution_count": null,
      "outputs": [
        {
          "output_type": "execute_result",
          "data": {
            "text/plain": [
              "<All keys matched successfully>"
            ]
          },
          "metadata": {},
          "execution_count": 17
        }
      ]
    },
    {
      "cell_type": "markdown",
      "source": [
        "### Train/val loss graph"
      ],
      "metadata": {
        "id": "wrYcdTPMLiVR"
      }
    },
    {
      "cell_type": "code",
      "source": [
        "# Plotting\n",
        "plt.figure(figsize=(10,5))\n",
        "plt.plot(train_losses, label='Training loss')\n",
        "plt.plot(valid_losses, label='Validation loss')\n",
        "plt.title('Training and Validation Loss')\n",
        "plt.xlabel('Epochs')\n",
        "plt.ylabel('Loss')\n",
        "plt.legend()\n",
        "plt.show()"
      ],
      "metadata": {
        "execution": {
          "iopub.status.busy": "2024-04-05T22:37:47.518579Z",
          "iopub.execute_input": "2024-04-05T22:37:47.518901Z",
          "iopub.status.idle": "2024-04-05T22:37:47.758006Z",
          "shell.execute_reply.started": "2024-04-05T22:37:47.518877Z",
          "shell.execute_reply": "2024-04-05T22:37:47.757205Z"
        },
        "trusted": true,
        "id": "G6mT382XLiVR",
        "colab": {
          "base_uri": "https://localhost:8080/",
          "height": 487
        },
        "outputId": "da7dc266-c174-4f09-ea55-d38afe226aa8"
      },
      "execution_count": null,
      "outputs": [
        {
          "output_type": "display_data",
          "data": {
            "text/plain": [
              "<Figure size 1000x500 with 1 Axes>"
            ],
            "image/png": "[encoded data removed]"
          },
          "metadata": {}
        }
      ]
    },
    {
      "cell_type": "markdown",
      "source": [
        "## Test"
      ],
      "metadata": {
        "id": "yxnP950wXehJ"
      }
    },
    {
      "cell_type": "markdown",
      "source": [
        "### without label test version (professor test file)"
      ],
      "metadata": {
        "id": "EZwSFxkDLiVR"
      }
    },
    {
      "cell_type": "markdown",
      "source": [
        "#### load test file"
      ],
      "metadata": {
        "id": "lcH4Aw-qLiVR"
      }
    },
    {
      "cell_type": "code",
      "source": [
        "def load_cifar_test_nolabels(filename):\n",
        "    with open(filename, 'rb') as f:\n",
        "        try:\n",
        "            datadict = pickle.load(f, encoding='bytes')\n",
        "            # print(\"Data dictionary keys:\", datadict.keys())  # To check the structure of the dictionary\n",
        "            # Access the correct key for the data\n",
        "            X = datadict[b'data']\n",
        "            X = X.reshape(-1, 3, 32, 32).astype('float32')  # Adjust shape accordingly if needed\n",
        "            return X\n",
        "        except EOFError as e:\n",
        "            print(\"EOFError while unpickling the file:\", e)\n",
        "        except Exception as e:\n",
        "            print(\"An error occurred:\", e)\n",
        "\n",
        "test_data_path = args.test_data_path\n",
        "# Loading the test batch without labels using the full path\n",
        "test_data = load_cifar_test_nolabels(test_data_path)\n",
        "test_dataset = CIFAR10Dataset(test_data, transform=transform_test)\n",
        "test_loader = DataLoader(test_dataset, batch_size=batch_size, num_workers=num_workers)"
      ],
      "metadata": {
        "execution": {
          "iopub.status.busy": "2024-04-05T22:38:32.261345Z",
          "iopub.execute_input": "2024-04-05T22:38:32.262047Z",
          "iopub.status.idle": "2024-04-05T22:38:32.312132Z",
          "shell.execute_reply.started": "2024-04-05T22:38:32.262019Z",
          "shell.execute_reply": "2024-04-05T22:38:32.311270Z"
        },
        "trusted": true,
        "id": "fPl_5yvwLiVR"
      },
      "execution_count": null,
      "outputs": []
    },
    {
      "cell_type": "markdown",
      "source": [
        "#### Run on professor's test file"
      ],
      "metadata": {
        "id": "h2BYwPg9LiVR"
      }
    },
    {
      "cell_type": "code",
      "source": [
        "# Ensure the network is in evaluation mode\n",
        "net.eval()\n",
        "\n",
        "# Predictions list\n",
        "predictions = []\n",
        "\n",
        "# Iterate over test data\n",
        "for batch_idx, data in enumerate(test_loader):\n",
        "    # Move tensors to GPU if CUDA is available\n",
        "    if train_on_gpu:\n",
        "        data = data.cuda()\n",
        "\n",
        "    # Forward pass: compute predicted outputs by passing inputs to the model\n",
        "    output = net(data)\n",
        "\n",
        "    # Convert output probabilities to predicted class\n",
        "    _, pred = torch.max(output, 1)\n",
        "\n",
        "    # Record the predictions\n",
        "    predictions.append(pred.cpu().numpy())  # Move the tensor to cpu and convert to numpy"
      ],
      "metadata": {
        "execution": {
          "iopub.status.busy": "2024-04-05T22:38:43.863234Z",
          "iopub.execute_input": "2024-04-05T22:38:43.863594Z",
          "iopub.status.idle": "2024-04-05T22:38:48.653582Z",
          "shell.execute_reply.started": "2024-04-05T22:38:43.863568Z",
          "shell.execute_reply": "2024-04-05T22:38:48.652574Z"
        },
        "trusted": true,
        "id": "ujvV2DPQLiVR"
      },
      "execution_count": null,
      "outputs": []
    },
    {
      "cell_type": "markdown",
      "source": [
        "#### generate submission csv"
      ],
      "metadata": {
        "id": "GgQJM-0nLiVR"
      }
    },
    {
      "cell_type": "code",
      "source": [
        "# # Concatenate all the predictions into one array\n",
        "predictions = np.concatenate(predictions, axis=0)\n",
        "\n",
        "# # You can now save the predictions to a file or use them for submission to a competition\n",
        "# # Example: Saving to a CSV file\n",
        "# np.savetxt(\"predictions.csv\", predictions, delimiter=\",\", fmt='%d')\n",
        "\n",
        "import csv\n",
        "\n",
        "# Assuming 'predictions' is already a flattened list of predictions\n",
        "# For the purpose of this example, let's create some dummy predictions\n",
        "\n",
        "# Path to the CSV output file\n",
        "output_file = 'submission.csv'\n",
        "\n",
        "# Writing to CSV\n",
        "with open(output_file, mode='w', newline='') as file:\n",
        "    writer = csv.writer(file)\n",
        "    writer.writerow(['ID', 'Labels'])  # Writing the header\n",
        "\n",
        "    for idx, label in enumerate(predictions):\n",
        "        writer.writerow([idx, label])  # Writing each ID and its corresponding label\n",
        "\n",
        "print(f\"Submission file saved to {output_file}\")"
      ],
      "metadata": {
        "execution": {
          "iopub.status.busy": "2024-04-05T22:38:54.838092Z",
          "iopub.execute_input": "2024-04-05T22:38:54.838454Z",
          "iopub.status.idle": "2024-04-05T22:38:54.860837Z",
          "shell.execute_reply.started": "2024-04-05T22:38:54.838426Z",
          "shell.execute_reply": "2024-04-05T22:38:54.859991Z"
        },
        "trusted": true,
        "id": "w4nlUcWKLiVR",
        "colab": {
          "base_uri": "https://localhost:8080/"
        },
        "outputId": "90652920-bd2b-484d-ce81-b8b3a6972488"
      },
      "execution_count": null,
      "outputs": [
        {
          "output_type": "stream",
          "name": "stdout",
          "text": [
            "Submission file saved to submission.csv\n"
          ]
        }
      ]
    },
    {
      "cell_type": "markdown",
      "source": [
        "### With label test version (test_batch)"
      ],
      "metadata": {
        "id": "sxA986WyLiVR"
      }
    },
    {
      "cell_type": "code",
      "source": [
        "# redefine the test loader\n",
        "\n",
        "# Function to load the test batch\n",
        "def load_cifar_test_batch(filename):\n",
        "    with open(filename, 'rb') as f:\n",
        "        datadict = pickle.load(f, encoding='bytes')\n",
        "        X = datadict[b'data']\n",
        "        Y = datadict.get(b'labels', None)  # Try to get the labels if they exist\n",
        "        X = X.reshape(-1, 3, 32, 32).astype(\"float32\")  # Reshape and convert data type\n",
        "        return X, Y\n",
        "\n",
        "# Load the test data\n",
        "test_data_path = args.test_data_path\n",
        "\n",
        "test_data, test_labels = load_cifar_test_batch(test_data_path)\n",
        "if test_labels is not None:\n",
        "    test_dataset = CIFAR10Dataset(test_data, test_labels, transform=transform_test)\n",
        "else:\n",
        "    test_dataset = CIFAR10Dataset(test_data, transform=transform_test)\n",
        "\n",
        "test_loader = DataLoader(test_dataset, batch_size=batch_size, num_workers=num_workers)"
      ],
      "metadata": {
        "execution": {
          "iopub.status.busy": "2024-04-05T22:39:01.018657Z",
          "iopub.execute_input": "2024-04-05T22:39:01.019439Z",
          "iopub.status.idle": "2024-04-05T22:39:01.102342Z",
          "shell.execute_reply.started": "2024-04-05T22:39:01.019405Z",
          "shell.execute_reply": "2024-04-05T22:39:01.101564Z"
        },
        "trusted": true,
        "id": "XMVQVYbOLiVR"
      },
      "execution_count": null,
      "outputs": []
    },
    {
      "cell_type": "code",
      "source": [
        "# track test loss\n",
        "test_loss = 0.0\n",
        "class_correct = list(0. for i in range(10))\n",
        "class_total = list(0. for i in range(10))\n",
        "\n",
        "net.eval()\n",
        "# iterate over test data\n",
        "for batch_idx, (data, target) in enumerate(test_loader):\n",
        "  # move tensors to GPU if CUDA is available\n",
        "  if train_on_gpu:\n",
        "    data, target = data.cuda(), target.cuda()\n",
        "  # forward pass: compute predicted outputs by passing inputs to the model\n",
        "  output = net(data)\n",
        "  # calculate the batch loss\n",
        "  loss = criterion(output, target)\n",
        "  # update test loss\n",
        "  test_loss += loss.item()*data.size(0)\n",
        "  # convert output probabilities to predicted class\n",
        "  _, pred = torch.max(output, 1)\n",
        "  # compare predictions to true label\n",
        "  correct_tensor = pred.eq(target.data.view_as(pred))\n",
        "  correct = np.squeeze(correct_tensor.numpy()) if not train_on_gpu else np.squeeze(correct_tensor.cpu().numpy())\n",
        "  # calculate test accuracy for each object class\n",
        "  for i in range(batch_size):\n",
        "    label = target.data[i]\n",
        "    class_correct[label] += correct[i].item()\n",
        "    class_total[label] += 1\n",
        "\n",
        "# average test loss\n",
        "test_loss = test_loss/len(test_loader.dataset)\n",
        "print('Test Loss: {:.6f}\\n'.format(test_loss))\n",
        "\n",
        "for i in range(10):\n",
        "  if class_total[i] > 0:\n",
        "    print('Test Accuracy of %5s: %2d%% (%2d/%2d)' % (\n",
        "        classes[i], 100 * class_correct[i] / class_total[i],\n",
        "        np.sum(class_correct[i]), np.sum(class_total[i])))\n",
        "  else:\n",
        "    print('Test Accuracy of %5s: N/A (no training examples)' % (classes[i]))\n",
        "\n",
        "print('\\nTest Accuracy (Overall): %2d%% (%2d/%2d)' % (\n",
        "    100. * np.sum(class_correct) / np.sum(class_total),\n",
        "    np.sum(class_correct), np.sum(class_total)))"
      ],
      "metadata": {
        "id": "B-KEFqmbXf-k",
        "execution": {
          "iopub.status.busy": "2024-04-05T22:39:03.236208Z",
          "iopub.execute_input": "2024-04-05T22:39:03.236827Z",
          "iopub.status.idle": "2024-04-05T22:39:08.854924Z",
          "shell.execute_reply.started": "2024-04-05T22:39:03.236794Z",
          "shell.execute_reply": "2024-04-05T22:39:08.853999Z"
        },
        "trusted": true,
        "colab": {
          "base_uri": "https://localhost:8080/"
        },
        "outputId": "f6b72641-210a-4792-9da5-6187e205b9f7"
      },
      "execution_count": null,
      "outputs": [
        {
          "output_type": "stream",
          "name": "stdout",
          "text": [
            "Test Loss: 0.985306\n",
            "\n",
            "Test Accuracy of airplane: 65% (659/1000)\n",
            "Test Accuracy of automobile: 87% (878/1000)\n",
            "Test Accuracy of  bird: 64% (641/1000)\n",
            "Test Accuracy of   cat: 47% (479/1000)\n",
            "Test Accuracy of  deer: 48% (485/1000)\n",
            "Test Accuracy of   dog: 57% (572/1000)\n",
            "Test Accuracy of  frog: 51% (514/1000)\n",
            "Test Accuracy of horse: 69% (693/1000)\n",
            "Test Accuracy of  ship: 81% (817/1000)\n",
            "Test Accuracy of truck: 78% (783/1000)\n",
            "\n",
            "Test Accuracy (Overall): 65% (6521/10000)\n"
          ]
        }
      ]
    }
  ]
}